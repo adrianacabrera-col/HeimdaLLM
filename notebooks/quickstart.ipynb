{
 "cells": [
  {
   "attachments": {},
   "cell_type": "markdown",
   "metadata": {},
   "source": [
    "This quickstart will walk you through setting up a SQL Bifrost with OpenAI's LLM. The\n",
    "end result is a function that takes natural language input and returns a trusted SQL\n",
    "`SELECT` query, constrained to your requirements.\n"
   ]
  },
  {
   "cell_type": "code",
   "execution_count": 1,
   "metadata": {},
   "outputs": [],
   "source": [
    "import logging\n",
    "from typing import Sequence\n",
    "\n",
    "import structlog\n",
    "\n",
    "from heimdallm.bifrosts.sql.sqlite.select.bifrost import Bifrost\n",
    "from heimdallm.bifrosts.sql.sqlite.select.envelope import PromptEnvelope\n",
    "from heimdallm.bifrosts.sql.sqlite.select.validator import ConstraintValidator\n",
    "from heimdallm.bifrosts.sql.common import FqColumn, JoinCondition, RequiredConstraint\n",
    "from heimdallm.llm_providers import openai\n",
    "\n",
    "logging.basicConfig(level=logging.ERROR)\n",
    "structlog.configure(logger_factory=structlog.stdlib.LoggerFactory())"
   ]
  },
  {
   "attachments": {},
   "cell_type": "markdown",
   "metadata": {},
   "source": [
    "Now let's set up our LLM integration. We'll use OpenAI. Remember to store your OpenAI\n",
    "API token securely.\n"
   ]
  },
  {
   "cell_type": "code",
   "execution_count": 2,
   "metadata": {},
   "outputs": [],
   "source": [
    "# load our openai api key secret from the environment.\n",
    "# create a `.env` file with your openai api secret.\n",
    "import os\n",
    "from dotenv import load_dotenv\n",
    "\n",
    "load_dotenv()\n",
    "open_api_key = os.getenv(\"OPENAI_API_SECRET\")\n",
    "assert open_api_key\n",
    "\n",
    "llm = openai.Client(api_key=open_api_key)"
   ]
  },
  {
   "attachments": {},
   "cell_type": "markdown",
   "metadata": {},
   "source": [
    "Now we'll define our database schema. You can dump this directly from your database, but\n",
    "a better method is to dump it out beforehand to a file, manually trim out tables and\n",
    "columns that you don't want the LLM to know about, and load it from that file. You can\n",
    "also add SQL comments to help explain the schema to the LLM.\n"
   ]
  },
  {
   "cell_type": "code",
   "execution_count": 3,
   "metadata": {},
   "outputs": [],
   "source": [
    "db_schema = \"\"\"\n",
    "CREATE TABLE customer (\n",
    "  customer_id INT NOT NULL,\n",
    "  store_id INT NOT NULL,\n",
    "  first_name VARCHAR(45) NOT NULL,\n",
    "  last_name VARCHAR(45) NOT NULL,\n",
    "  email VARCHAR(50) DEFAULT NULL,\n",
    "  address_id INT NOT NULL,\n",
    "  active CHAR(1) DEFAULT 'Y' NOT NULL,\n",
    "  create_date TIMESTAMP NOT NULL,\n",
    "  last_update TIMESTAMP NOT NULL,\n",
    "  PRIMARY KEY  (customer_id),\n",
    ");\n",
    "\"\"\""
   ]
  },
  {
   "attachments": {},
   "cell_type": "markdown",
   "metadata": {},
   "source": [
    "Let's define our constraint validator(s). These are used to constrain the SQL query\n",
    "so that it only has access to tables and columns that you allow. For more information on\n",
    "the methods that you can override in the derived class, look [here.](https://docs.heimdallm.ai/en/latest/api/bifrosts/sql/sqlite/select/validator.html)\n"
   ]
  },
  {
   "cell_type": "code",
   "execution_count": 4,
   "metadata": {},
   "outputs": [],
   "source": [
    "class CustomerConstraintValidator(ConstraintValidator):\n",
    "    def requester_identities(self) -> Sequence[RequiredConstraint]:\n",
    "        return [\n",
    "            RequiredConstraint(\n",
    "                column=\"customer.customer_id\",\n",
    "                placeholder=\"customer_id\",\n",
    "            ),\n",
    "        ]\n",
    "\n",
    "    def required_constraints(self) -> Sequence[RequiredConstraint]:\n",
    "        return []\n",
    "\n",
    "    def select_column_allowed(self, column: FqColumn) -> bool:\n",
    "        return True\n",
    "\n",
    "    def allowed_joins(self) -> Sequence[JoinCondition]:\n",
    "        return []\n",
    "\n",
    "    def max_limit(self) -> int | None:\n",
    "        return None\n",
    "\n",
    "\n",
    "validator = CustomerConstraintValidator()"
   ]
  },
  {
   "attachments": {},
   "cell_type": "markdown",
   "metadata": {},
   "source": [
    "We'll define our prompt envelope. This adds additional context to any human input so\n",
    "that the LLM is guided to produce a correct response.\n"
   ]
  },
  {
   "cell_type": "code",
   "execution_count": 5,
   "metadata": {},
   "outputs": [],
   "source": [
    "envelope = PromptEnvelope(\n",
    "    llm=llm,\n",
    "    db_schema=db_schema,\n",
    "    validators=[validator],\n",
    ")"
   ]
  },
  {
   "attachments": {},
   "cell_type": "markdown",
   "metadata": {},
   "source": [
    "Now bring everything together into a Bifrost.\n"
   ]
  },
  {
   "cell_type": "code",
   "execution_count": 6,
   "metadata": {},
   "outputs": [],
   "source": [
    "bifrost = Bifrost(\n",
    "    prompt_envelope=envelope,\n",
    "    llm=llm,\n",
    "    constraint_validators=[validator],\n",
    ")"
   ]
  },
  {
   "attachments": {},
   "cell_type": "markdown",
   "metadata": {},
   "source": [
    "You can now traverse untrusted human input with the Bifrost.\n"
   ]
  },
  {
   "cell_type": "code",
   "execution_count": 7,
   "metadata": {},
   "outputs": [
    {
     "name": "stdout",
     "output_type": "stream",
     "text": [
      "SELECT customer.email\n",
      "FROM customer\n",
      "WHERE customer.customer_id=:customer_id;\n"
     ]
    }
   ],
   "source": [
    "query = bifrost.traverse(\"Show me my email\")\n",
    "print(query)"
   ]
  }
 ],
 "metadata": {
  "kernelspec": {
   "display_name": ".venv",
   "language": "python",
   "name": "python3"
  },
  "language_info": {
   "codemirror_mode": {
    "name": "ipython",
    "version": 3
   },
   "file_extension": ".py",
   "mimetype": "text/x-python",
   "name": "python",
   "nbconvert_exporter": "python",
   "pygments_lexer": "ipython3",
   "version": "3.10.6"
  },
  "orig_nbformat": 4
 },
 "nbformat": 4,
 "nbformat_minor": 2
}
