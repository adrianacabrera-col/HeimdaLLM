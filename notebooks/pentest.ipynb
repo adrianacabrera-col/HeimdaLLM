{
 "cells": [
  {
   "attachments": {},
   "cell_type": "markdown",
   "metadata": {},
   "source": [
    "# Penetration testing notebook\n",
    "\n",
    "Use this notebook to test handcrafted queries directly against the sakila demo database without going to the LLM. If you're here, please take a moment to view our [Security Policy](https://github.com/amoffat/HeimdaLLM/security/policy) when it comes to disclosing vulnerabilities.\n"
   ]
  },
  {
   "cell_type": "code",
   "execution_count": 2,
   "metadata": {},
   "outputs": [],
   "source": [
    "%reload_ext autoreload\n",
    "%autoreload 2"
   ]
  },
  {
   "cell_type": "code",
   "execution_count": 3,
   "metadata": {},
   "outputs": [],
   "source": [
    "import logging\n",
    "\n",
    "import structlog\n",
    "\n",
    "logging.basicConfig(level=logging.DEBUG)\n",
    "structlog.configure(logger_factory=structlog.stdlib.LoggerFactory())\n",
    "\n",
    "import sqlite3\n",
    "import sys\n",
    "import time\n",
    "from datetime import date\n",
    "from pathlib import Path\n",
    "\n",
    "import pandas as pd\n",
    "\n",
    "from heimdallm.bifrosts.sql.sqlite.select.bifrost import Bifrost\n",
    "\n",
    "THIS_DIR = Path().resolve()\n",
    "sys.path.insert(0, THIS_DIR)"
   ]
  },
  {
   "attachments": {},
   "cell_type": "markdown",
   "metadata": {},
   "source": [
    "You can browse the Sakila Demo Database [here](./sakila.sqlite3) (Note: the sqlite\n",
    "VSCode extension doesn't seem to work in Github Codespaces)\n"
   ]
  },
  {
   "cell_type": "code",
   "execution_count": 4,
   "metadata": {},
   "outputs": [],
   "source": [
    "conn = sqlite3.connect(\"sakila.sqlite3\")\n",
    "db_schema = open(\"sakila-schema.sql\", \"r\").read()"
   ]
  },
  {
   "cell_type": "code",
   "execution_count": 5,
   "metadata": {},
   "outputs": [],
   "source": [
    "from constraints.customer import DataConstraints\n",
    "\n",
    "validator = DataConstraints()\n",
    "bifrost = Bifrost.validation_only(DataConstraints())"
   ]
  },
  {
   "cell_type": "code",
   "execution_count": 6,
   "metadata": {},
   "outputs": [],
   "source": [
    "def query(untrusted_input):\n",
    "    trusted_sql_query = bifrost.traverse(untrusted_input, autofix=True)\n",
    "\n",
    "    # according to the Sakila database, this is roughly the latest meaningful date that\n",
    "    # could be considered \"now\", so we'll hardcode that, so that the database is always\n",
    "    # relevant. our prompt envelope has instructed the LLM to reference the `:timestamp`\n",
    "    # placeholder in the query if it needs the current time.\n",
    "    now = time.mktime(date.fromisoformat(\"2005-09-05\").timetuple())\n",
    "    params = {\"timestamp\": now, \"customer_id\": 148}\n",
    "\n",
    "    df = pd.read_sql_query(trusted_sql_query, conn, params=params)\n",
    "    display(df)"
   ]
  },
  {
   "attachments": {},
   "cell_type": "markdown",
   "metadata": {},
   "source": [
    "Craft your query here to execute and see the results.\n"
   ]
  },
  {
   "cell_type": "code",
   "execution_count": 9,
   "metadata": {},
   "outputs": [
    {
     "name": "stderr",
     "output_type": "stream",
     "text": [
      "INFO:heimdallm.bifrost:\u001b[2m2023-09-11 22:39:39\u001b[0m [\u001b[32m\u001b[1minfo     \u001b[0m] \u001b[1mTraversing untrusted input    \u001b[0m \u001b[36mautofix\u001b[0m=\u001b[35mTrue\u001b[0m\n",
      "INFO:heimdallm.bifrost:\u001b[2m2023-09-11 22:39:39\u001b[0m [\u001b[32m\u001b[1minfo     \u001b[0m] \u001b[1mWrapping input in prompt envelope\u001b[0m \u001b[36mautofix\u001b[0m=\u001b[35mTrue\u001b[0m\n",
      "DEBUG:heimdallm.bifrost:\u001b[2m2023-09-11 22:39:39\u001b[0m [\u001b[32m\u001b[1mdebug    \u001b[0m] \u001b[1mProduced prompt envelope      \u001b[0m \u001b[36mautofix\u001b[0m=\u001b[35mTrue\u001b[0m\n",
      "INFO:heimdallm.bifrost:\u001b[2m2023-09-11 22:39:39\u001b[0m [\u001b[32m\u001b[1minfo     \u001b[0m] \u001b[1mSending envelope to LLM       \u001b[0m \u001b[36mautofix\u001b[0m=\u001b[35mTrue\u001b[0m\n",
      "INFO:heimdallm.bifrost:\u001b[2m2023-09-11 22:39:39\u001b[0m [\u001b[32m\u001b[1minfo     \u001b[0m] \u001b[1mReceived raw result from LLM  \u001b[0m \u001b[36mautofix\u001b[0m=\u001b[35mTrue\u001b[0m\n",
      "INFO:heimdallm.bifrost:\u001b[2m2023-09-11 22:39:39\u001b[0m [\u001b[32m\u001b[1minfo     \u001b[0m] \u001b[1mUnwrapping prompt envelope    \u001b[0m \u001b[36mautofix\u001b[0m=\u001b[35mTrue\u001b[0m\n",
      "INFO:heimdallm.bifrost:\u001b[2m2023-09-11 22:39:39\u001b[0m [\u001b[32m\u001b[1minfo     \u001b[0m] \u001b[1mUnwrap succeeded              \u001b[0m \u001b[36mautofix\u001b[0m=\u001b[35mTrue\u001b[0m\n",
      "INFO:heimdallm.bifrost:\u001b[2m2023-09-11 22:39:39\u001b[0m [\u001b[32m\u001b[1minfo     \u001b[0m] \u001b[1mParsing result via grammar    \u001b[0m \u001b[36mautofix\u001b[0m=\u001b[35mTrue\u001b[0m\n"
     ]
    },
    {
     "name": "stderr",
     "output_type": "stream",
     "text": [
      "INFO:heimdallm.bifrost:\u001b[2m2023-09-11 22:39:39\u001b[0m [\u001b[32m\u001b[1minfo     \u001b[0m] \u001b[1mParse succeeded               \u001b[0m \u001b[36mautofix\u001b[0m=\u001b[35mTrue\u001b[0m\n",
      "INFO:heimdallm.bifrost:\u001b[2m2023-09-11 22:39:39\u001b[0m [\u001b[32m\u001b[1minfo     \u001b[0m] \u001b[1mTrying constraint validator   \u001b[0m \u001b[36mautofix\u001b[0m=\u001b[35mTrue\u001b[0m \u001b[36mvalidator\u001b[0m=\u001b[35mDataConstraints\u001b[0m\n",
      "INFO:heimdallm.bifrost:\u001b[2m2023-09-11 22:39:39\u001b[0m [\u001b[32m\u001b[1minfo     \u001b[0m] \u001b[1mAutofixing parse tree and reconstructing the input\u001b[0m \u001b[36mautofix\u001b[0m=\u001b[35mTrue\u001b[0m\n",
      "INFO:heimdallm.bifrost:\u001b[2m2023-09-11 22:39:39\u001b[0m [\u001b[32m\u001b[1minfo     \u001b[0m] \u001b[1mRe-parsing reconstructed output\u001b[0m \u001b[36mautofix\u001b[0m=\u001b[35mTrue\u001b[0m\n",
      "INFO:heimdallm.bifrost:\u001b[2m2023-09-11 22:39:39\u001b[0m [\u001b[32m\u001b[1minfo     \u001b[0m] \u001b[1mReconstruction succeeded      \u001b[0m \u001b[36mautofix\u001b[0m=\u001b[35mTrue\u001b[0m\n",
      "INFO:heimdallm.bifrost:\u001b[2m2023-09-11 22:39:39\u001b[0m [\u001b[32m\u001b[1minfo     \u001b[0m] \u001b[1mValidating parse tree         \u001b[0m \u001b[36mautofix\u001b[0m=\u001b[35mTrue\u001b[0m\n",
      "ERROR:heimdallm.bifrost:\u001b[2m2023-09-11 22:39:39\u001b[0m [\u001b[31m\u001b[1merror    \u001b[0m] \u001b[1mValidation failed             \u001b[0m \u001b[36mautofix\u001b[0m=\u001b[35mTrue\u001b[0m\n",
      "Traceback (most recent call last):\n",
      "  File \"/home/amoffat/work/heimdallm/heimdallm/bifrost.py\", line 132, in traverse\n",
      "    raise validation_exc\n",
      "  File \"/home/amoffat/work/heimdallm/heimdallm/bifrost.py\", line 113, in traverse\n",
      "    trusted_llm_output, tree = self._try_validator(\n",
      "  File \"/home/amoffat/work/heimdallm/heimdallm/bifrost.py\", line 177, in _try_validator\n",
      "    validator.validate(\n",
      "  File \"/home/amoffat/work/heimdallm/heimdallm/bifrosts/sql/validator.py\", line 302, in validate\n",
      "    raise exc.MissingRequiredIdentity(\n",
      "heimdallm.bifrosts.sql.exc.MissingRequiredIdentity: Missing one required identities: {rental.customer_id=:customer_id, payment.customer_id=:customer_id, customer.customer_id=:customer_id}\n"
     ]
    },
    {
     "ename": "MissingRequiredIdentity",
     "evalue": "Missing one required identities: {rental.customer_id=:customer_id, payment.customer_id=:customer_id, customer.customer_id=:customer_id}",
     "output_type": "error",
     "traceback": [
      "\u001b[0;31m---------------------------------------------------------------------------\u001b[0m",
      "\u001b[0;31mMissingRequiredIdentity\u001b[0m                   Traceback (most recent call last)",
      "Cell \u001b[0;32mIn[9], line 2\u001b[0m\n\u001b[1;32m      1\u001b[0m untrusted_input \u001b[39m=\u001b[39m \u001b[39m\"\u001b[39m\u001b[39mSELECT id from film;\u001b[39m\u001b[39m\"\u001b[39m\n\u001b[0;32m----> 2\u001b[0m query(untrusted_input)\n",
      "Cell \u001b[0;32mIn[6], line 2\u001b[0m, in \u001b[0;36mquery\u001b[0;34m(untrusted_input)\u001b[0m\n\u001b[1;32m      1\u001b[0m \u001b[39mdef\u001b[39;00m \u001b[39mquery\u001b[39m(untrusted_input):\n\u001b[0;32m----> 2\u001b[0m     trusted_sql_query \u001b[39m=\u001b[39m bifrost\u001b[39m.\u001b[39;49mtraverse(untrusted_input, autofix\u001b[39m=\u001b[39;49m\u001b[39mTrue\u001b[39;49;00m)\n\u001b[1;32m      4\u001b[0m     \u001b[39m# according to the Sakila database, this is roughly the latest meaningful date that\u001b[39;00m\n\u001b[1;32m      5\u001b[0m     \u001b[39m# could be considered \"now\", so we'll hardcode that, so that the database is always\u001b[39;00m\n\u001b[1;32m      6\u001b[0m     \u001b[39m# relevant. our prompt envelope has instructed the LLM to reference the `:timestamp`\u001b[39;00m\n\u001b[1;32m      7\u001b[0m     \u001b[39m# placeholder in the query if it needs the current time.\u001b[39;00m\n\u001b[1;32m      8\u001b[0m     now \u001b[39m=\u001b[39m time\u001b[39m.\u001b[39mmktime(date\u001b[39m.\u001b[39mfromisoformat(\u001b[39m\"\u001b[39m\u001b[39m2005-09-05\u001b[39m\u001b[39m\"\u001b[39m)\u001b[39m.\u001b[39mtimetuple())\n",
      "File \u001b[0;32m~/work/heimdallm/heimdallm/bifrost.py:135\u001b[0m, in \u001b[0;36mBifrost.traverse\u001b[0;34m(self, untrusted_human_input, autofix)\u001b[0m\n\u001b[1;32m    133\u001b[0m     \u001b[39mexcept\u001b[39;00m \u001b[39mException\u001b[39;00m \u001b[39mas\u001b[39;00m e:\n\u001b[1;32m    134\u001b[0m         log\u001b[39m.\u001b[39mexception(\u001b[39m\"\u001b[39m\u001b[39mValidation failed\u001b[39m\u001b[39m\"\u001b[39m)\n\u001b[0;32m--> 135\u001b[0m         \u001b[39mraise\u001b[39;00m e\n\u001b[1;32m    137\u001b[0m log\u001b[39m.\u001b[39minfo(\u001b[39m\"\u001b[39m\u001b[39mValidation succeeded\u001b[39m\u001b[39m\"\u001b[39m)\n\u001b[1;32m    138\u001b[0m trusted_llm_output \u001b[39m=\u001b[39m \u001b[39mself\u001b[39m\u001b[39m.\u001b[39mpost_transform(trusted_llm_output, tree)\n",
      "File \u001b[0;32m~/work/heimdallm/heimdallm/bifrost.py:132\u001b[0m, in \u001b[0;36mBifrost.traverse\u001b[0;34m(self, untrusted_human_input, autofix)\u001b[0m\n\u001b[1;32m    128\u001b[0m \u001b[39mif\u001b[39;00m validation_exc:\n\u001b[1;32m    129\u001b[0m     \u001b[39m# ugly, but this is the easiest way to log the exception that we have\u001b[39;00m\n\u001b[1;32m    130\u001b[0m     \u001b[39m# already caught\u001b[39;00m\n\u001b[1;32m    131\u001b[0m     \u001b[39mtry\u001b[39;00m:\n\u001b[0;32m--> 132\u001b[0m         \u001b[39mraise\u001b[39;00m validation_exc\n\u001b[1;32m    133\u001b[0m     \u001b[39mexcept\u001b[39;00m \u001b[39mException\u001b[39;00m \u001b[39mas\u001b[39;00m e:\n\u001b[1;32m    134\u001b[0m         log\u001b[39m.\u001b[39mexception(\u001b[39m\"\u001b[39m\u001b[39mValidation failed\u001b[39m\u001b[39m\"\u001b[39m)\n",
      "File \u001b[0;32m~/work/heimdallm/heimdallm/bifrost.py:113\u001b[0m, in \u001b[0;36mBifrost.traverse\u001b[0;34m(self, untrusted_human_input, autofix)\u001b[0m\n\u001b[1;32m    108\u001b[0m log\u001b[39m.\u001b[39minfo(\n\u001b[1;32m    109\u001b[0m     \u001b[39m\"\u001b[39m\u001b[39mTrying constraint validator\u001b[39m\u001b[39m\"\u001b[39m,\n\u001b[1;32m    110\u001b[0m     validator\u001b[39m=\u001b[39mvalidator\u001b[39m.\u001b[39m\u001b[39m__class__\u001b[39m\u001b[39m.\u001b[39m\u001b[39m__name__\u001b[39m,\n\u001b[1;32m    111\u001b[0m )\n\u001b[1;32m    112\u001b[0m \u001b[39mtry\u001b[39;00m:\n\u001b[0;32m--> 113\u001b[0m     trusted_llm_output, tree \u001b[39m=\u001b[39m \u001b[39mself\u001b[39;49m\u001b[39m.\u001b[39;49m_try_validator(\n\u001b[1;32m    114\u001b[0m         log\u001b[39m=\u001b[39;49mlog,\n\u001b[1;32m    115\u001b[0m         validator\u001b[39m=\u001b[39;49mvalidator,\n\u001b[1;32m    116\u001b[0m         untrusted_llm_output\u001b[39m=\u001b[39;49muntrusted_llm_output,\n\u001b[1;32m    117\u001b[0m         autofix\u001b[39m=\u001b[39;49mautofix,\n\u001b[1;32m    118\u001b[0m         ctx\u001b[39m=\u001b[39;49m\u001b[39mself\u001b[39;49m\u001b[39m.\u001b[39;49mctx,\n\u001b[1;32m    119\u001b[0m         tree\u001b[39m=\u001b[39;49mtree,\n\u001b[1;32m    120\u001b[0m     )\n\u001b[1;32m    121\u001b[0m \u001b[39mexcept\u001b[39;00m \u001b[39mException\u001b[39;00m \u001b[39mas\u001b[39;00m e:\n\u001b[1;32m    122\u001b[0m     validation_exc \u001b[39m=\u001b[39m e\n",
      "File \u001b[0;32m~/work/heimdallm/heimdallm/bifrost.py:177\u001b[0m, in \u001b[0;36mBifrost._try_validator\u001b[0;34m(self, log, validator, autofix, untrusted_llm_output, ctx, tree)\u001b[0m\n\u001b[1;32m    175\u001b[0m \u001b[39m# throws a bifrost-specific exception\u001b[39;00m\n\u001b[1;32m    176\u001b[0m log\u001b[39m.\u001b[39minfo(\u001b[39m\"\u001b[39m\u001b[39mValidating parse tree\u001b[39m\u001b[39m\"\u001b[39m)\n\u001b[0;32m--> 177\u001b[0m validator\u001b[39m.\u001b[39;49mvalidate(\n\u001b[1;32m    178\u001b[0m     bifrost\u001b[39m=\u001b[39;49m\u001b[39mself\u001b[39;49m,\n\u001b[1;32m    179\u001b[0m     tree\u001b[39m=\u001b[39;49mtree,\n\u001b[1;32m    180\u001b[0m     ctx\u001b[39m=\u001b[39;49mctx,\n\u001b[1;32m    181\u001b[0m )\n\u001b[1;32m    182\u001b[0m log\u001b[39m.\u001b[39minfo(\u001b[39m\"\u001b[39m\u001b[39mValidation succeeded\u001b[39m\u001b[39m\"\u001b[39m)\n\u001b[1;32m    184\u001b[0m \u001b[39mreturn\u001b[39;00m untrusted_llm_output, tree\n",
      "File \u001b[0;32m~/work/heimdallm/heimdallm/bifrosts/sql/validator.py:302\u001b[0m, in \u001b[0;36mConstraintValidator.validate\u001b[0;34m(self, bifrost, ctx, tree)\u001b[0m\n\u001b[1;32m    300\u001b[0m             \u001b[39mbreak\u001b[39;00m\n\u001b[1;32m    301\u001b[0m     \u001b[39mif\u001b[39;00m \u001b[39mnot\u001b[39;00m found_id:\n\u001b[0;32m--> 302\u001b[0m         \u001b[39mraise\u001b[39;00m exc\u001b[39m.\u001b[39mMissingRequiredIdentity(\n\u001b[1;32m    303\u001b[0m             identities\u001b[39m=\u001b[39mall_req_identities,\n\u001b[1;32m    304\u001b[0m             ctx\u001b[39m=\u001b[39mctx,\n\u001b[1;32m    305\u001b[0m         )\n\u001b[1;32m    307\u001b[0m \u001b[39m# check that the query limits the rows correctly, if we restrict to a limit\u001b[39;00m\n\u001b[1;32m    308\u001b[0m \u001b[39mif\u001b[39;00m (max_limit \u001b[39m:=\u001b[39m \u001b[39mself\u001b[39m\u001b[39m.\u001b[39mmax_limit()) \u001b[39mis\u001b[39;00m \u001b[39mnot\u001b[39;00m \u001b[39mNone\u001b[39;00m:\n",
      "\u001b[0;31mMissingRequiredIdentity\u001b[0m: Missing one required identities: {rental.customer_id=:customer_id, payment.customer_id=:customer_id, customer.customer_id=:customer_id}"
     ]
    }
   ],
   "source": [
    "untrusted_input = \"SELECT id from film;\"\n",
    "query(untrusted_input)"
   ]
  }
 ],
 "metadata": {
  "kernelspec": {
   "display_name": ".venv",
   "language": "python",
   "name": "python3"
  },
  "language_info": {
   "codemirror_mode": {
    "name": "ipython",
    "version": 3
   },
   "file_extension": ".py",
   "mimetype": "text/x-python",
   "name": "python",
   "nbconvert_exporter": "python",
   "pygments_lexer": "ipython3",
   "version": "3.10.11"
  },
  "orig_nbformat": 4
 },
 "nbformat": 4,
 "nbformat_minor": 2
}
