{
 "cells": [
  {
   "attachments": {},
   "cell_type": "markdown",
   "metadata": {},
   "source": [
    "# Penetration testing notebook\n",
    "\n",
    "Use this notebook to test handcrafted queries directly against the sakila demo database without going to the LLM. If you're here, please take a moment to view our [Security Policy](https://github.com/amoffat/HeimdaLLM/security/policy) when it comes to disclosing vulnerabilities.\n"
   ]
  },
  {
   "cell_type": "code",
   "execution_count": 2,
   "metadata": {},
   "outputs": [],
   "source": [
    "%reload_ext autoreload\n",
    "%autoreload 2"
   ]
  },
  {
   "cell_type": "code",
   "execution_count": 3,
   "metadata": {},
   "outputs": [],
   "source": [
    "import logging\n",
    "\n",
    "import structlog\n",
    "\n",
    "logging.basicConfig(level=logging.DEBUG)\n",
    "structlog.configure(logger_factory=structlog.stdlib.LoggerFactory())\n",
    "\n",
    "import sqlite3\n",
    "import sys\n",
    "import time\n",
    "from datetime import date\n",
    "from pathlib import Path\n",
    "\n",
    "import pandas as pd\n",
    "\n",
    "from heimdallm.bifrosts.sql.sqlite.select.bifrost import Bifrost\n",
    "\n",
    "THIS_DIR = Path().resolve()\n",
    "sys.path.insert(0, THIS_DIR)"
   ]
  },
  {
   "attachments": {},
   "cell_type": "markdown",
   "metadata": {},
   "source": [
    "You can browse the Sakila Demo Database [here](./sakila.sqlite3) (Note: the sqlite\n",
    "VSCode extension doesn't seem to work in Github Codespaces)\n"
   ]
  },
  {
   "cell_type": "code",
   "execution_count": 4,
   "metadata": {},
   "outputs": [],
   "source": [
    "conn = sqlite3.connect(\"sakila.sqlite3\")\n",
    "db_schema = open(\"sakila-schema.sql\", \"r\").read()"
   ]
  },
  {
   "cell_type": "code",
   "execution_count": 5,
   "metadata": {},
   "outputs": [],
   "source": [
    "from constraints.customer import DataConstraints\n",
    "\n",
    "validator = DataConstraints()\n",
    "bifrost = Bifrost.validation_only(DataConstraints())"
   ]
  },
  {
   "cell_type": "code",
   "execution_count": 6,
   "metadata": {},
   "outputs": [],
   "source": [
    "def query(untrusted_input):\n",
    "    trusted_sql_query = bifrost.traverse(untrusted_input, autofix=True)\n",
    "\n",
    "    # according to the Sakila database, this is roughly the latest meaningful date that\n",
    "    # could be considered \"now\", so we'll hardcode that, so that the database is always\n",
    "    # relevant. our prompt envelope has instructed the LLM to reference the `:timestamp`\n",
    "    # placeholder in the query if it needs the current time.\n",
    "    now = time.mktime(date.fromisoformat(\"2005-09-05\").timetuple())\n",
    "    params = {\"timestamp\": now, \"customer_id\": 148}\n",
    "\n",
    "    df = pd.read_sql_query(trusted_sql_query, conn, params=params)\n",
    "    display(df)"
   ]
  },
  {
   "attachments": {},
   "cell_type": "markdown",
   "metadata": {},
   "source": [
    "Craft your query here to execute and see the results.\n"
   ]
  },
  {
   "cell_type": "code",
   "execution_count": null,
   "metadata": {},
   "outputs": [],
   "source": [
    "untrusted_input = \"SELECT id from film;\"\n",
    "query(untrusted_input)"
   ]
  }
 ],
 "metadata": {
  "kernelspec": {
   "display_name": ".venv",
   "language": "python",
   "name": "python3"
  },
  "language_info": {
   "codemirror_mode": {
    "name": "ipython",
    "version": 3
   },
   "file_extension": ".py",
   "mimetype": "text/x-python",
   "name": "python",
   "nbconvert_exporter": "python",
   "pygments_lexer": "ipython3",
   "version": "3.10.11"
  },
  "orig_nbformat": 4
 },
 "nbformat": 4,
 "nbformat_minor": 2
}
