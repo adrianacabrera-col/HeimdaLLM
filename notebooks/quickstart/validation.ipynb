{
 "cells": [
  {
   "attachments": {},
   "cell_type": "markdown",
   "metadata": {},
   "source": [
    "This quickstart will walk you through setting up a SQL Bifrost with OpenAI's LLM. The\n",
    "end result is a function that takes natural language input and returns a trusted SQL\n",
    "`SELECT` query, constrained to your requirements.\n"
   ]
  },
  {
   "cell_type": "code",
   "execution_count": 10,
   "metadata": {},
   "outputs": [],
   "source": [
    "import logging\n",
    "from typing import Sequence\n",
    "\n",
    "import structlog\n",
    "\n",
    "from heimdallm.bifrosts.sql.sqlite.select.bifrost import Bifrost\n",
    "from heimdallm.bifrosts.sql.sqlite.select.validator import ConstraintValidator\n",
    "from heimdallm.bifrosts.sql.common import (\n",
    "    FqColumn,\n",
    "    JoinCondition,\n",
    "    ParameterizedConstraint,\n",
    ")\n",
    "\n",
    "logging.basicConfig(level=logging.ERROR)\n",
    "structlog.configure(logger_factory=structlog.stdlib.LoggerFactory())"
   ]
  },
  {
   "attachments": {},
   "cell_type": "markdown",
   "metadata": {},
   "source": [
    "Let's define our constraint validator(s). These are used to constrain the SQL query\n",
    "so that it only has access to tables and columns that you allow. For more information on\n",
    "the methods that you can override in the derived class, look [here.](https://docs.heimdallm.ai/en/latest/api/bifrosts/sql/sqlite/select/validator.html)\n"
   ]
  },
  {
   "cell_type": "code",
   "execution_count": 11,
   "metadata": {},
   "outputs": [],
   "source": [
    "class CustomerConstraintValidator(ConstraintValidator):\n",
    "    def requester_identities(self) -> Sequence[ParameterizedConstraint]:\n",
    "        return [\n",
    "            ParameterizedConstraint(\n",
    "                column=\"customer.customer_id\",\n",
    "                placeholder=\"customer_id\",\n",
    "            ),\n",
    "        ]\n",
    "\n",
    "    def parameterized_constraints(self) -> Sequence[ParameterizedConstraint]:\n",
    "        return []\n",
    "\n",
    "    def select_column_allowed(self, column: FqColumn) -> bool:\n",
    "        return True\n",
    "\n",
    "    def allowed_joins(self) -> Sequence[JoinCondition]:\n",
    "        return [\n",
    "            JoinCondition(\"payment.rental_id\", \"rental.rental_id\"),\n",
    "            JoinCondition(\n",
    "                \"customer.customer_id\",\n",
    "                \"payment.customer_id\",\n",
    "                identity=\"customer_id\",\n",
    "            ),\n",
    "        ]\n",
    "\n",
    "    def max_limit(self) -> int | None:\n",
    "        return 10\n",
    "\n",
    "\n",
    "validator = CustomerConstraintValidator()"
   ]
  },
  {
   "attachments": {},
   "cell_type": "markdown",
   "metadata": {},
   "source": [
    "Now let's construct a Bifrost that validates SQL:\n"
   ]
  },
  {
   "cell_type": "code",
   "execution_count": 12,
   "metadata": {},
   "outputs": [],
   "source": [
    "bifrost = Bifrost.validation_only(\n",
    "    constraint_validators=[validator],\n",
    ")"
   ]
  },
  {
   "attachments": {},
   "cell_type": "markdown",
   "metadata": {},
   "source": [
    "You can now validate constraints on SQL:\n"
   ]
  },
  {
   "cell_type": "code",
   "execution_count": 13,
   "metadata": {},
   "outputs": [
    {
     "name": "stdout",
     "output_type": "stream",
     "text": [
      "SELECT strftime('%Y-%m',payment.payment_date) as month,SUM(payment.amount) as total_amount FROM payment JOIN rental on payment.rental_id=rental.rental_id JOIN customer on payment.customer_id=customer.customer_id WHERE customer.customer_id=:customer_id GROUP BY payment.payment_date LIMIT 10\n"
     ]
    }
   ],
   "source": [
    "query = \"\"\"\n",
    "SELECT\n",
    "    strftime('%Y-%m', payment.payment_date) AS month,\n",
    "    SUM(payment.amount) AS total_amount\n",
    "FROM payment\n",
    "JOIN rental ON payment.rental_id=rental.rental_id\n",
    "JOIN customer ON payment.customer_id=customer.customer_id\n",
    "WHERE customer.customer_id=:customer_id\n",
    "GROUP BY month\n",
    "\"\"\"\n",
    "\n",
    "query = bifrost.traverse(query)\n",
    "print(query)"
   ]
  }
 ],
 "metadata": {
  "kernelspec": {
   "display_name": ".venv",
   "language": "python",
   "name": "python3"
  },
  "language_info": {
   "codemirror_mode": {
    "name": "ipython",
    "version": 3
   },
   "file_extension": ".py",
   "mimetype": "text/x-python",
   "name": "python",
   "nbconvert_exporter": "python",
   "pygments_lexer": "ipython3",
   "version": "3.10.11"
  },
  "orig_nbformat": 4
 },
 "nbformat": 4,
 "nbformat_minor": 2
}
