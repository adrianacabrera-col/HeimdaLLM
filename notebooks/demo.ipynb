{
 "cells": [
  {
   "attachments": {},
   "cell_type": "markdown",
   "id": "263e6061",
   "metadata": {},
   "source": [
    "# Sakila Database Demo\n",
    "\n",
    "Below, we will set up a Bifrost that allows us to use natural language to safely execute\n",
    "SELECT SQL queries against a popular sample database, the [Sakila Sample\n",
    "Database](https://www.kaggle.com/datasets/atanaskanev/sqlite-sakila-sample-database).\n",
    "This database represents a movie rental business.\n"
   ]
  },
  {
   "attachments": {},
   "cell_type": "markdown",
   "id": "f25e2f1a",
   "metadata": {},
   "source": [
    "Let's set up some boilerplate.\n"
   ]
  },
  {
   "cell_type": "code",
   "execution_count": 1,
   "id": "e110e6d4",
   "metadata": {},
   "outputs": [],
   "source": [
    "%reload_ext autoreload\n",
    "%autoreload 2"
   ]
  },
  {
   "cell_type": "code",
   "execution_count": 2,
   "id": "060f8230-b580-415c-9991-8860e1b8985f",
   "metadata": {},
   "outputs": [],
   "source": [
    "import logging\n",
    "\n",
    "import structlog\n",
    "\n",
    "logging.basicConfig(level=logging.ERROR)\n",
    "structlog.configure(logger_factory=structlog.stdlib.LoggerFactory())\n",
    "\n",
    "import sqlite3\n",
    "import sys\n",
    "import time\n",
    "from datetime import date\n",
    "from pathlib import Path\n",
    "\n",
    "import pandas as pd\n",
    "\n",
    "from heimdallm.bifrosts.sql.sqlite.select.bifrost import Bifrost\n",
    "from heimdallm.bifrosts.sql.sqlite.select.envelope import PromptEnvelope\n",
    "from heimdallm.llm_providers import openai\n",
    "\n",
    "THIS_DIR = Path().resolve()\n",
    "sys.path.insert(0, THIS_DIR)"
   ]
  },
  {
   "attachments": {},
   "cell_type": "markdown",
   "id": "75bc039a-dc28-4d15-a0db-198f3ffcce43",
   "metadata": {},
   "source": [
    "Now let's set up our LLM integration. The system is pluggable, so any capable LLM can be\n",
    "used here. As the ecosystem of capable LLM APIs expands, we'll include more LLM\n",
    "integrations. Currently, we support OpenAI.\n"
   ]
  },
  {
   "cell_type": "code",
   "execution_count": 3,
   "id": "4f3c6d8d-ff34-4963-8d82-3be319e5a3e9",
   "metadata": {},
   "outputs": [],
   "source": [
    "# load our openai api key secret from the environment.\n",
    "# create a `.env` file with your openai api secret.\n",
    "import os\n",
    "from dotenv import load_dotenv\n",
    "\n",
    "load_dotenv()\n",
    "open_api_key = os.getenv(\"OPENAI_API_SECRET\")\n",
    "assert open_api_key\n",
    "\n",
    "llm = openai.Client(api_key=open_api_key, model=\"gpt-4\")"
   ]
  },
  {
   "attachments": {},
   "cell_type": "markdown",
   "id": "67997bd5",
   "metadata": {},
   "source": [
    "Now let's load our demo database. We're using the [Sakila Sample\n",
    "Database](https://www.kaggle.com/datasets/atanaskanev/sqlite-sakila-sample-database)\n",
    "which represents a physical movie rental business (think Blockbuster video). It has\n",
    "customers, rentals, films, stores, employees, etc.\n",
    "\n",
    "This database has not been altered in any way for HeimdaLLM. You can browse its contents\n",
    "[here](./sakila.sqlite3) (Note: the sqlite VSCode extension doesn't seem to work in\n",
    "Github Codespaces)\n"
   ]
  },
  {
   "cell_type": "code",
   "execution_count": 4,
   "id": "6b02cf45",
   "metadata": {},
   "outputs": [],
   "source": [
    "conn = sqlite3.connect(\"sakila.sqlite3\")\n",
    "db_schema = open(\"sakila-schema.sql\", \"r\").read()"
   ]
  },
  {
   "attachments": {},
   "cell_type": "markdown",
   "id": "ed010f35",
   "metadata": {},
   "source": [
    "The database has the following relationships. You can refer to this schema when constructing your queries.\n",
    "\n",
    "![alternative text](./sakila.png)\n"
   ]
  },
  {
   "attachments": {},
   "cell_type": "markdown",
   "id": "b12085c8-14ca-4c1e-a833-55b3b6a296f6",
   "metadata": {},
   "source": [
    "Let's set up our constraint validators. These validators define allowlists and\n",
    "constraints for what a SQL query can do, like what columns are selectable, what tables\n",
    "can be joined (and how they're allowed to be joined), required WHERE clauses, and\n",
    "maximum returned rows.\n",
    "\n",
    "Most of your engineering will be writing constraint validators. We'll use pre-made\n",
    "validators for our demo. Feel free to [explore them](./constraints/customer.py) on your\n",
    "own to get a sense of how they work.\n"
   ]
  },
  {
   "cell_type": "code",
   "execution_count": 5,
   "id": "90a852d4-5a7f-4c25-a7aa-84728abd316f",
   "metadata": {},
   "outputs": [],
   "source": [
    "from constraints.customer import DataConstraints, GeneralConstraints\n",
    "\n",
    "# this validator constrains the query to data that only the customer should be able to\n",
    "# see by virtue of it being connected to their account.\n",
    "customer_data_validator = DataConstraints()\n",
    "\n",
    "# this validator provides general constraints that are not specific to the customer,\n",
    "# for example, film and actor information.\n",
    "customer_general_validator = GeneralConstraints()\n",
    "\n",
    "# the bifrost only needs one of these validators to be satisfied.\n",
    "validators = [customer_general_validator, customer_data_validator]"
   ]
  },
  {
   "attachments": {},
   "cell_type": "markdown",
   "id": "63e775dd",
   "metadata": {},
   "source": [
    "Now we need a prompt envelope. This prompt envelope wraps our untrusted input to help guide the LLM into producing output that will likely pass validation.\n"
   ]
  },
  {
   "cell_type": "code",
   "execution_count": 6,
   "id": "d989ed38",
   "metadata": {},
   "outputs": [],
   "source": [
    "envelope = PromptEnvelope(\n",
    "    llm=llm,\n",
    "    db_schema=db_schema,\n",
    "    validators=validators,\n",
    ")"
   ]
  },
  {
   "attachments": {},
   "cell_type": "markdown",
   "id": "86008b67-6032-4e78-bf75-94f211b26279",
   "metadata": {},
   "source": [
    "Lastly, we'll instantiate our Bifrost. The Bifrost is the assembly of the LLM, the prompt envelope, the grammar, and the constsraint validators. You don't see the grammar here, because HeimdaLLM defines it for you, but if you're curious, you can see it [here](../heimdallm/bifrosts/sql/sqlite/select/grammar.lark)\n"
   ]
  },
  {
   "cell_type": "code",
   "execution_count": 7,
   "id": "1bc182b1-7c94-438f-9e9b-4df8a7db2de3",
   "metadata": {},
   "outputs": [],
   "source": [
    "# human input -> prompt envelope -> LLM -> constraint validation -> trusted SQL query\n",
    "bifrost = Bifrost(\n",
    "    prompt_envelope=envelope,\n",
    "    llm=llm,\n",
    "    constraint_validators=validators,\n",
    ")"
   ]
  },
  {
   "attachments": {},
   "cell_type": "markdown",
   "id": "e2f31fbb-7e43-4384-a0e8-0be8c9011a91",
   "metadata": {},
   "source": [
    "For convenience, we'll set up a helper function that executes the Bifrost to produce a validated SQL query, then executes the query against our database. Finally, it prints the results of that query as a table. This will make it easier to experiment with different queries and see the results immediately.\n"
   ]
  },
  {
   "cell_type": "code",
   "execution_count": 8,
   "id": "afb5e76f-85e1-41ff-b272-2ba50966ed86",
   "metadata": {},
   "outputs": [],
   "source": [
    "def query(untrusted_input):\n",
    "    trusted_sql_query = bifrost.traverse(untrusted_input)\n",
    "    print(trusted_sql_query)\n",
    "\n",
    "    # according to the Sakila database, this is roughly the latest meaningful date that\n",
    "    # could be considered \"now\", so we'll hardcode that, so that the database is always\n",
    "    # relevant. our prompt envelope has instructed the LLM to reference the `:timestamp`\n",
    "    # placeholder in the query if it needs the current time.\n",
    "    now = time.mktime(date.fromisoformat(\"2006-02-15\").timetuple())\n",
    "    params = {\"timestamp\": now, \"customer_id\": 148}\n",
    "\n",
    "    df = pd.read_sql_query(trusted_sql_query, conn, params=params)\n",
    "    display(df)"
   ]
  },
  {
   "attachments": {},
   "cell_type": "markdown",
   "id": "92e4b08b",
   "metadata": {},
   "source": [
    "We're ready to execute a query. Let's try something simple that doesn't require any\n",
    "restrictions to customer data. The output of this query will fail validation from the\n",
    "`customer_data_validator`, but pass validation from the `customer_general_validator`\n",
    "validator, so since one validator passes, validation is successful.\n"
   ]
  },
  {
   "cell_type": "code",
   "execution_count": 9,
   "id": "d7a9bc64",
   "metadata": {},
   "outputs": [
    {
     "name": "stdout",
     "output_type": "stream",
     "text": [
      "SELECT film.title,film.description FROM film WHERE film.description LIKE'%cats%'LIMIT 20\n"
     ]
    },
    {
     "data": {
      "text/html": [
       "<div>\n",
       "<style scoped>\n",
       "    .dataframe tbody tr th:only-of-type {\n",
       "        vertical-align: middle;\n",
       "    }\n",
       "\n",
       "    .dataframe tbody tr th {\n",
       "        vertical-align: top;\n",
       "    }\n",
       "\n",
       "    .dataframe thead th {\n",
       "        text-align: right;\n",
       "    }\n",
       "</style>\n",
       "<table border=\"1\" class=\"dataframe\">\n",
       "  <thead>\n",
       "    <tr style=\"text-align: right;\">\n",
       "      <th></th>\n",
       "      <th>title</th>\n",
       "      <th>description</th>\n",
       "    </tr>\n",
       "  </thead>\n",
       "  <tbody>\n",
       "  </tbody>\n",
       "</table>\n",
       "</div>"
      ],
      "text/plain": [
       "Empty DataFrame\n",
       "Columns: [title, description]\n",
       "Index: []"
      ]
     },
     "metadata": {},
     "output_type": "display_data"
    }
   ],
   "source": [
    "query(\"find me films about animals\")"
   ]
  },
  {
   "attachments": {},
   "cell_type": "markdown",
   "id": "7ed70bbd",
   "metadata": {},
   "source": [
    "Now let's try a query that requires access to customer data. The output of this query\n",
    "will pass validation from the `customer_data_validator`\n"
   ]
  },
  {
   "cell_type": "code",
   "execution_count": 29,
   "id": "72b66b44",
   "metadata": {},
   "outputs": [
    {
     "name": "stdout",
     "output_type": "stream",
     "text": [
      "SELECT rental.rental_date,film.title\n",
      "FROM rental\n",
      "INNER JOIN customer on rental.customer_id=customer.customer_id\n",
      "INNER JOIN inventory on rental.inventory_id=inventory.inventory_id\n",
      "INNER JOIN film on inventory.film_id=film.film_id\n",
      "WHERE customer.customer_id=:customer_id\n",
      "ORDER BY rental.rental_date DESC\n",
      "LIMIT 10;\n"
     ]
    },
    {
     "data": {
      "text/html": [
       "<div>\n",
       "<style scoped>\n",
       "    .dataframe tbody tr th:only-of-type {\n",
       "        vertical-align: middle;\n",
       "    }\n",
       "\n",
       "    .dataframe tbody tr th {\n",
       "        vertical-align: top;\n",
       "    }\n",
       "\n",
       "    .dataframe thead th {\n",
       "        text-align: right;\n",
       "    }\n",
       "</style>\n",
       "<table border=\"1\" class=\"dataframe\">\n",
       "  <thead>\n",
       "    <tr style=\"text-align: right;\">\n",
       "      <th></th>\n",
       "      <th>rental_date</th>\n",
       "      <th>title</th>\n",
       "    </tr>\n",
       "  </thead>\n",
       "  <tbody>\n",
       "    <tr>\n",
       "      <th>0</th>\n",
       "      <td>2005-08-23 05:57:04.000</td>\n",
       "      <td>RACER EGG</td>\n",
       "    </tr>\n",
       "    <tr>\n",
       "      <th>1</th>\n",
       "      <td>2005-08-23 04:13:53.000</td>\n",
       "      <td>MUMMY CREATURES</td>\n",
       "    </tr>\n",
       "    <tr>\n",
       "      <th>2</th>\n",
       "      <td>2005-08-22 22:26:13.000</td>\n",
       "      <td>HELLFIGHTERS SIERRA</td>\n",
       "    </tr>\n",
       "    <tr>\n",
       "      <th>3</th>\n",
       "      <td>2005-08-22 17:44:30.000</td>\n",
       "      <td>WIZARD COLDBLOODED</td>\n",
       "    </tr>\n",
       "    <tr>\n",
       "      <th>4</th>\n",
       "      <td>2005-08-22 06:45:53.000</td>\n",
       "      <td>DINOSAUR SECRETARY</td>\n",
       "    </tr>\n",
       "    <tr>\n",
       "      <th>5</th>\n",
       "      <td>2005-08-22 03:42:12.000</td>\n",
       "      <td>INTERVIEW LIAISONS</td>\n",
       "    </tr>\n",
       "    <tr>\n",
       "      <th>6</th>\n",
       "      <td>2005-08-21 21:27:24.000</td>\n",
       "      <td>ROBBERY BRIGHT</td>\n",
       "    </tr>\n",
       "    <tr>\n",
       "      <th>7</th>\n",
       "      <td>2005-08-21 18:39:52.000</td>\n",
       "      <td>COLOR PHILADELPHIA</td>\n",
       "    </tr>\n",
       "    <tr>\n",
       "      <th>8</th>\n",
       "      <td>2005-08-21 03:24:50.000</td>\n",
       "      <td>SOUTH WAIT</td>\n",
       "    </tr>\n",
       "    <tr>\n",
       "      <th>9</th>\n",
       "      <td>2005-08-21 02:31:35.000</td>\n",
       "      <td>COMA HEAD</td>\n",
       "    </tr>\n",
       "  </tbody>\n",
       "</table>\n",
       "</div>"
      ],
      "text/plain": [
       "               rental_date                title\n",
       "0  2005-08-23 05:57:04.000            RACER EGG\n",
       "1  2005-08-23 04:13:53.000      MUMMY CREATURES\n",
       "2  2005-08-22 22:26:13.000  HELLFIGHTERS SIERRA\n",
       "3  2005-08-22 17:44:30.000   WIZARD COLDBLOODED\n",
       "4  2005-08-22 06:45:53.000   DINOSAUR SECRETARY\n",
       "5  2005-08-22 03:42:12.000   INTERVIEW LIAISONS\n",
       "6  2005-08-21 21:27:24.000       ROBBERY BRIGHT\n",
       "7  2005-08-21 18:39:52.000   COLOR PHILADELPHIA\n",
       "8  2005-08-21 03:24:50.000           SOUTH WAIT\n",
       "9  2005-08-21 02:31:35.000            COMA HEAD"
      ]
     },
     "metadata": {},
     "output_type": "display_data"
    }
   ],
   "source": [
    "query(\"Show me my last movie rentals\")"
   ]
  },
  {
   "attachments": {},
   "cell_type": "markdown",
   "id": "8a60cf07",
   "metadata": {},
   "source": [
    "As long as the LLM is smart enough to compose the query, and your constraint validators\n",
    "can constrain the queries, the sky is the limit.\n"
   ]
  },
  {
   "cell_type": "code",
   "execution_count": 30,
   "id": "06e37ba5-d79a-434d-8e8a-1e5c5169663a",
   "metadata": {},
   "outputs": [
    {
     "name": "stdout",
     "output_type": "stream",
     "text": [
      "SELECT strftime('%Y-%m',payment.payment_date)as month,SUM(payment.amount)as total_amount\n",
      "FROM payment\n",
      "JOIN rental on payment.rental_id=rental.rental_id\n",
      "JOIN customer on payment.customer_id=customer.customer_id\n",
      "WHERE customer.customer_id=:customer_id\n",
      "GROUP BY month\n",
      "LIMIT 20;\n"
     ]
    },
    {
     "data": {
      "text/html": [
       "<div>\n",
       "<style scoped>\n",
       "    .dataframe tbody tr th:only-of-type {\n",
       "        vertical-align: middle;\n",
       "    }\n",
       "\n",
       "    .dataframe tbody tr th {\n",
       "        vertical-align: top;\n",
       "    }\n",
       "\n",
       "    .dataframe thead th {\n",
       "        text-align: right;\n",
       "    }\n",
       "</style>\n",
       "<table border=\"1\" class=\"dataframe\">\n",
       "  <thead>\n",
       "    <tr style=\"text-align: right;\">\n",
       "      <th></th>\n",
       "      <th>month</th>\n",
       "      <th>total_amount</th>\n",
       "    </tr>\n",
       "  </thead>\n",
       "  <tbody>\n",
       "    <tr>\n",
       "      <th>0</th>\n",
       "      <td>2005-05</td>\n",
       "      <td>4.99</td>\n",
       "    </tr>\n",
       "    <tr>\n",
       "      <th>1</th>\n",
       "      <td>2005-06</td>\n",
       "      <td>22.95</td>\n",
       "    </tr>\n",
       "    <tr>\n",
       "      <th>2</th>\n",
       "      <td>2005-07</td>\n",
       "      <td>100.78</td>\n",
       "    </tr>\n",
       "    <tr>\n",
       "      <th>3</th>\n",
       "      <td>2005-08</td>\n",
       "      <td>87.82</td>\n",
       "    </tr>\n",
       "  </tbody>\n",
       "</table>\n",
       "</div>"
      ],
      "text/plain": [
       "     month  total_amount\n",
       "0  2005-05          4.99\n",
       "1  2005-06         22.95\n",
       "2  2005-07        100.78\n",
       "3  2005-08         87.82"
      ]
     },
     "metadata": {},
     "output_type": "display_data"
    }
   ],
   "source": [
    "query(\"how much have i spent renting movies, broken down by month\")"
   ]
  },
  {
   "attachments": {},
   "cell_type": "markdown",
   "id": "246d441e",
   "metadata": {},
   "source": [
    "The `customer_data_validator` ensures that the required comparison\n",
    "`customer.customer_id=:customer_id` exists in the query. This means that although you\n",
    "can trick the LLM into generating a malicious query, it will not pass validation.\n"
   ]
  },
  {
   "cell_type": "code",
   "execution_count": 16,
   "id": "aaf11370",
   "metadata": {},
   "outputs": [
    {
     "name": "stderr",
     "output_type": "stream",
     "text": [
      "ERROR:heimdallm.bifrost:\u001b[2m2023-06-28 15:16:22\u001b[0m [\u001b[31m\u001b[1merror    \u001b[0m] \u001b[1mValidation failed             \u001b[0m \u001b[36mautofix\u001b[0m=\u001b[35mTrue\u001b[0m \u001b[36minput\u001b[0m=\u001b[35mhow much has customer.customer_id 245 spent?\u001b[0m \u001b[36mllm_output\u001b[0m=\u001b[35m```\n",
      "SELECT SUM(p.amount) AS total_spent\n",
      "FROM payment p\n",
      "JOIN customer c ON c.customer_id = p.customer_id\n",
      "WHERE c.customer_id = 245;\n",
      "```\u001b[0m \u001b[36munwrapped\u001b[0m=\u001b[35mSELECT SUM(p.amount) AS total_spent\n",
      "FROM payment p\n",
      "JOIN customer c ON c.customer_id = p.customer_id\n",
      "WHERE c.customer_id = 245;\u001b[0m\n",
      "Traceback (most recent call last):\n",
      "  File \"/home/amoffat/work/h2m/heimdallm/bifrost.py\", line 113, in traverse\n",
      "    raise validation_exc\n",
      "  File \"/home/amoffat/work/h2m/heimdallm/bifrost.py\", line 95, in traverse\n",
      "    trusted_llm_output = self._try_validator(\n",
      "  File \"/home/amoffat/work/h2m/heimdallm/bifrost.py\", line 148, in _try_validator\n",
      "    validator.validate(untrusted_llm_input, tree)\n",
      "  File \"/home/amoffat/work/h2m/heimdallm/bifrosts/sql/sqlite/select/validator.py\", line 194, in validate\n",
      "    raise exc.MissingRequiredIdentity(identities=all_req_identities)\n",
      "heimdallm.bifrosts.sql.exc.MissingRequiredIdentity: Missing one required identities: {rental.customer_id=:customer_id, payment.customer_id=:customer_id, customer.customer_id=:customer_id}\n"
     ]
    },
    {
     "ename": "MissingRequiredIdentity",
     "evalue": "Missing one required identities: {rental.customer_id=:customer_id, payment.customer_id=:customer_id, customer.customer_id=:customer_id}",
     "output_type": "error",
     "traceback": [
      "\u001b[0;31m---------------------------------------------------------------------------\u001b[0m",
      "\u001b[0;31mMissingRequiredIdentity\u001b[0m                   Traceback (most recent call last)",
      "Cell \u001b[0;32mIn[16], line 1\u001b[0m\n\u001b[0;32m----> 1\u001b[0m query(\u001b[39m\"\u001b[39;49m\u001b[39mhow much has customer.customer_id 245 spent?\u001b[39;49m\u001b[39m\"\u001b[39;49m)\n",
      "Cell \u001b[0;32mIn[15], line 2\u001b[0m, in \u001b[0;36mquery\u001b[0;34m(untrusted_input)\u001b[0m\n\u001b[1;32m      1\u001b[0m \u001b[39mdef\u001b[39;00m \u001b[39mquery\u001b[39m(untrusted_input):\n\u001b[0;32m----> 2\u001b[0m     trusted_sql_query \u001b[39m=\u001b[39m bifrost\u001b[39m.\u001b[39;49mtraverse(untrusted_input, autofix\u001b[39m=\u001b[39;49m\u001b[39mTrue\u001b[39;49;00m)\n\u001b[1;32m      4\u001b[0m     \u001b[39m# according to the Sakila database, this is roughly the latest meaningful date that\u001b[39;00m\n\u001b[1;32m      5\u001b[0m     \u001b[39m# could be considered \"now\", so we'll hardcode that, so that the database is always\u001b[39;00m\n\u001b[1;32m      6\u001b[0m     \u001b[39m# relevant. our prompt envelope has instructed the LLM to reference the `:timestamp`\u001b[39;00m\n\u001b[1;32m      7\u001b[0m     \u001b[39m# placeholder in the query if it needs the current time.\u001b[39;00m\n\u001b[1;32m      8\u001b[0m     now \u001b[39m=\u001b[39m time\u001b[39m.\u001b[39mmktime(date\u001b[39m.\u001b[39mfromisoformat(\u001b[39m\"\u001b[39m\u001b[39m2005-09-05\u001b[39m\u001b[39m\"\u001b[39m)\u001b[39m.\u001b[39mtimetuple())\n",
      "File \u001b[0;32m~/work/h2m/heimdallm/bifrost.py:116\u001b[0m, in \u001b[0;36mBifrost.traverse\u001b[0;34m(self, untrusted_human_input, autofix)\u001b[0m\n\u001b[1;32m    114\u001b[0m     \u001b[39mexcept\u001b[39;00m \u001b[39mException\u001b[39;00m \u001b[39mas\u001b[39;00m e:\n\u001b[1;32m    115\u001b[0m         log\u001b[39m.\u001b[39mexception(\u001b[39m\"\u001b[39m\u001b[39mValidation failed\u001b[39m\u001b[39m\"\u001b[39m)\n\u001b[0;32m--> 116\u001b[0m         \u001b[39mraise\u001b[39;00m e\n\u001b[1;32m    118\u001b[0m log \u001b[39m=\u001b[39m log\u001b[39m.\u001b[39mbind(trusted\u001b[39m=\u001b[39muntrusted_llm_output)\n\u001b[1;32m    119\u001b[0m log\u001b[39m.\u001b[39minfo(\u001b[39m\"\u001b[39m\u001b[39mValidation succeeded\u001b[39m\u001b[39m\"\u001b[39m)\n",
      "File \u001b[0;32m~/work/h2m/heimdallm/bifrost.py:113\u001b[0m, in \u001b[0;36mBifrost.traverse\u001b[0;34m(self, untrusted_human_input, autofix)\u001b[0m\n\u001b[1;32m    109\u001b[0m \u001b[39mif\u001b[39;00m validation_exc:\n\u001b[1;32m    110\u001b[0m     \u001b[39m# ugly, but this is the easiest way to log the exception that we have\u001b[39;00m\n\u001b[1;32m    111\u001b[0m     \u001b[39m# already caught\u001b[39;00m\n\u001b[1;32m    112\u001b[0m     \u001b[39mtry\u001b[39;00m:\n\u001b[0;32m--> 113\u001b[0m         \u001b[39mraise\u001b[39;00m validation_exc\n\u001b[1;32m    114\u001b[0m     \u001b[39mexcept\u001b[39;00m \u001b[39mException\u001b[39;00m \u001b[39mas\u001b[39;00m e:\n\u001b[1;32m    115\u001b[0m         log\u001b[39m.\u001b[39mexception(\u001b[39m\"\u001b[39m\u001b[39mValidation failed\u001b[39m\u001b[39m\"\u001b[39m)\n",
      "File \u001b[0;32m~/work/h2m/heimdallm/bifrost.py:95\u001b[0m, in \u001b[0;36mBifrost.traverse\u001b[0;34m(self, untrusted_human_input, autofix)\u001b[0m\n\u001b[1;32m     90\u001b[0m log\u001b[39m.\u001b[39minfo(\n\u001b[1;32m     91\u001b[0m     \u001b[39m\"\u001b[39m\u001b[39mTrying constraint validator\u001b[39m\u001b[39m\"\u001b[39m,\n\u001b[1;32m     92\u001b[0m     validator\u001b[39m=\u001b[39mvalidator\u001b[39m.\u001b[39m\u001b[39m__class__\u001b[39m\u001b[39m.\u001b[39m\u001b[39m__name__\u001b[39m,\n\u001b[1;32m     93\u001b[0m )\n\u001b[1;32m     94\u001b[0m \u001b[39mtry\u001b[39;00m:\n\u001b[0;32m---> 95\u001b[0m     trusted_llm_output \u001b[39m=\u001b[39m \u001b[39mself\u001b[39;49m\u001b[39m.\u001b[39;49m_try_validator(\n\u001b[1;32m     96\u001b[0m         log,\n\u001b[1;32m     97\u001b[0m         validator,\n\u001b[1;32m     98\u001b[0m         autofix,\n\u001b[1;32m     99\u001b[0m         untrusted_llm_output,\n\u001b[1;32m    100\u001b[0m         tree,\n\u001b[1;32m    101\u001b[0m     )\n\u001b[1;32m    102\u001b[0m \u001b[39mexcept\u001b[39;00m \u001b[39mException\u001b[39;00m \u001b[39mas\u001b[39;00m e:\n\u001b[1;32m    103\u001b[0m     validation_exc \u001b[39m=\u001b[39m e\n",
      "File \u001b[0;32m~/work/h2m/heimdallm/bifrost.py:148\u001b[0m, in \u001b[0;36mBifrost._try_validator\u001b[0;34m(self, log, validator, autofix, untrusted_llm_input, tree)\u001b[0m\n\u001b[1;32m    146\u001b[0m \u001b[39m# throws a bifrost-specific exception\u001b[39;00m\n\u001b[1;32m    147\u001b[0m log\u001b[39m.\u001b[39minfo(\u001b[39m\"\u001b[39m\u001b[39mValidating parse tree\u001b[39m\u001b[39m\"\u001b[39m)\n\u001b[0;32m--> 148\u001b[0m validator\u001b[39m.\u001b[39;49mvalidate(untrusted_llm_input, tree)\n\u001b[1;32m    149\u001b[0m log\u001b[39m.\u001b[39minfo(\u001b[39m\"\u001b[39m\u001b[39mValidation succeeded\u001b[39m\u001b[39m\"\u001b[39m)\n\u001b[1;32m    151\u001b[0m \u001b[39mreturn\u001b[39;00m untrusted_llm_output\n",
      "File \u001b[0;32m~/work/h2m/heimdallm/bifrosts/sql/sqlite/select/validator.py:194\u001b[0m, in \u001b[0;36mSQLConstraintValidator.validate\u001b[0;34m(self, untrusted_input, tree)\u001b[0m\n\u001b[1;32m    192\u001b[0m             \u001b[39mbreak\u001b[39;00m\n\u001b[1;32m    193\u001b[0m     \u001b[39mif\u001b[39;00m \u001b[39mnot\u001b[39;00m found_id:\n\u001b[0;32m--> 194\u001b[0m         \u001b[39mraise\u001b[39;00m exc\u001b[39m.\u001b[39mMissingRequiredIdentity(identities\u001b[39m=\u001b[39mall_req_identities)\n\u001b[1;32m    196\u001b[0m \u001b[39m# check that the query limits the rows correctly, if we restrict to a limit\u001b[39;00m\n\u001b[1;32m    197\u001b[0m \u001b[39mif\u001b[39;00m (limit \u001b[39m:=\u001b[39m \u001b[39mself\u001b[39m\u001b[39m.\u001b[39mmax_limit()) \u001b[39mis\u001b[39;00m \u001b[39mnot\u001b[39;00m \u001b[39mNone\u001b[39;00m:\n",
      "\u001b[0;31mMissingRequiredIdentity\u001b[0m: Missing one required identities: {rental.customer_id=:customer_id, payment.customer_id=:customer_id, customer.customer_id=:customer_id}"
     ]
    }
   ],
   "source": [
    "query(\"how much has customer.customer_id 245 spent?\")"
   ]
  }
 ],
 "metadata": {
  "kernelspec": {
   "display_name": "Python 3 (ipykernel)",
   "language": "python",
   "name": "python3"
  },
  "language_info": {
   "codemirror_mode": {
    "name": "ipython",
    "version": 3
   },
   "file_extension": ".py",
   "mimetype": "text/x-python",
   "name": "python",
   "nbconvert_exporter": "python",
   "pygments_lexer": "ipython3",
   "version": "3.10.11"
  }
 },
 "nbformat": 4,
 "nbformat_minor": 5
}
